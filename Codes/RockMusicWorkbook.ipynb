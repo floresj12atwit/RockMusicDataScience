{
 "cells": [
  {
   "cell_type": "markdown",
   "metadata": {},
   "source": [
    "# Overall Question is What factors contributed to the decline in popularity of rock music during the 2000s\n",
    "\n",
    "## This will be broken down into 3 questions \n",
    "\n",
    "### Question 1: Did the rise of other genres impact rock music's presence on the charts?\n",
    "\n",
    "### Question 2: How much did the changes in the medium of music consumption affect rock music artists and sales (CDs to streaming platforms)?\n",
    "\n",
    "### Question 3: Did the rise of solo artists in various genres impact the popularity and presence of traditional rock bands?"
   ]
  },
  {
   "cell_type": "markdown",
   "metadata": {},
   "source": [
    "# Question 1\n",
    "\n",
    "## Did the rise of other genres impact rock music's presence on the charts?"
   ]
  },
  {
   "cell_type": "code",
   "execution_count": null,
   "metadata": {
    "vscode": {
     "languageId": "plaintext"
    }
   },
   "outputs": [],
   "source": []
  },
  {
   "cell_type": "markdown",
   "metadata": {},
   "source": [
    "# Question 2 \n",
    "\n",
    "## How much did the changes in the medium of music consumption affect rock music artists and sales (CDs to streaming platforms)?"
   ]
  },
  {
   "cell_type": "code",
   "execution_count": null,
   "metadata": {
    "vscode": {
     "languageId": "plaintext"
    }
   },
   "outputs": [],
   "source": []
  },
  {
   "cell_type": "markdown",
   "metadata": {},
   "source": [
    "### Question 3  \n",
    "\n",
    "## Did the rise of solo artists in various genres impact the popularity and presence of traditional rock bands?"
   ]
  },
  {
   "cell_type": "code",
   "execution_count": null,
   "metadata": {
    "vscode": {
     "languageId": "plaintext"
    }
   },
   "outputs": [],
   "source": []
  }
 ],
 "metadata": {
  "language_info": {
   "name": "python"
  }
 },
 "nbformat": 4,
 "nbformat_minor": 2
}
